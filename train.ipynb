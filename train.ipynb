{
  "nbformat": 4,
  "nbformat_minor": 0,
  "metadata": {
    "colab": {
      "provenance": []
    },
    "kernelspec": {
      "name": "python3",
      "display_name": "Python 3"
    },
    "language_info": {
      "name": "python"
    },
    "widgets": {
      "application/vnd.jupyter.widget-state+json": {
        "1a77b775b20c4874b20d0c141618faf0": {
          "model_module": "@jupyter-widgets/controls",
          "model_name": "HBoxModel",
          "model_module_version": "1.5.0",
          "state": {
            "_dom_classes": [],
            "_model_module": "@jupyter-widgets/controls",
            "_model_module_version": "1.5.0",
            "_model_name": "HBoxModel",
            "_view_count": null,
            "_view_module": "@jupyter-widgets/controls",
            "_view_module_version": "1.5.0",
            "_view_name": "HBoxView",
            "box_style": "",
            "children": [
              "IPY_MODEL_adda1039549144799b8524be2e9adb36",
              "IPY_MODEL_662e3b96de1e47f69e6b894d0b7f40f5",
              "IPY_MODEL_f082fc999d0448b391c4c4407bb4f735"
            ],
            "layout": "IPY_MODEL_844bc1accfcd42cd9212bd53f17b4341"
          }
        },
        "adda1039549144799b8524be2e9adb36": {
          "model_module": "@jupyter-widgets/controls",
          "model_name": "HTMLModel",
          "model_module_version": "1.5.0",
          "state": {
            "_dom_classes": [],
            "_model_module": "@jupyter-widgets/controls",
            "_model_module_version": "1.5.0",
            "_model_name": "HTMLModel",
            "_view_count": null,
            "_view_module": "@jupyter-widgets/controls",
            "_view_module_version": "1.5.0",
            "_view_name": "HTMLView",
            "description": "",
            "description_tooltip": null,
            "layout": "IPY_MODEL_0221e7f005cc431bb89d9cb89f78066c",
            "placeholder": "​",
            "style": "IPY_MODEL_0e474fa3de6c4d2b82ee1fe1780fb94e",
            "value": " 48%"
          }
        },
        "662e3b96de1e47f69e6b894d0b7f40f5": {
          "model_module": "@jupyter-widgets/controls",
          "model_name": "FloatProgressModel",
          "model_module_version": "1.5.0",
          "state": {
            "_dom_classes": [],
            "_model_module": "@jupyter-widgets/controls",
            "_model_module_version": "1.5.0",
            "_model_name": "FloatProgressModel",
            "_view_count": null,
            "_view_module": "@jupyter-widgets/controls",
            "_view_module_version": "1.5.0",
            "_view_name": "ProgressView",
            "bar_style": "",
            "description": "",
            "description_tooltip": null,
            "layout": "IPY_MODEL_4af7d756d92547619a7bbc54f1c2d760",
            "max": 73,
            "min": 0,
            "orientation": "horizontal",
            "style": "IPY_MODEL_4d233e24df2f484f845b5b0d142cefc9",
            "value": 35
          }
        },
        "f082fc999d0448b391c4c4407bb4f735": {
          "model_module": "@jupyter-widgets/controls",
          "model_name": "HTMLModel",
          "model_module_version": "1.5.0",
          "state": {
            "_dom_classes": [],
            "_model_module": "@jupyter-widgets/controls",
            "_model_module_version": "1.5.0",
            "_model_name": "HTMLModel",
            "_view_count": null,
            "_view_module": "@jupyter-widgets/controls",
            "_view_module_version": "1.5.0",
            "_view_name": "HTMLView",
            "description": "",
            "description_tooltip": null,
            "layout": "IPY_MODEL_e35279e6bbbb456e93f02208b829cfe6",
            "placeholder": "​",
            "style": "IPY_MODEL_6954cf9b825844b1a6d96d099c3489ae",
            "value": " 35/73 [20:25&lt;21:18, 33.64s/it]"
          }
        },
        "844bc1accfcd42cd9212bd53f17b4341": {
          "model_module": "@jupyter-widgets/base",
          "model_name": "LayoutModel",
          "model_module_version": "1.2.0",
          "state": {
            "_model_module": "@jupyter-widgets/base",
            "_model_module_version": "1.2.0",
            "_model_name": "LayoutModel",
            "_view_count": null,
            "_view_module": "@jupyter-widgets/base",
            "_view_module_version": "1.2.0",
            "_view_name": "LayoutView",
            "align_content": null,
            "align_items": null,
            "align_self": null,
            "border": null,
            "bottom": null,
            "display": null,
            "flex": null,
            "flex_flow": null,
            "grid_area": null,
            "grid_auto_columns": null,
            "grid_auto_flow": null,
            "grid_auto_rows": null,
            "grid_column": null,
            "grid_gap": null,
            "grid_row": null,
            "grid_template_areas": null,
            "grid_template_columns": null,
            "grid_template_rows": null,
            "height": null,
            "justify_content": null,
            "justify_items": null,
            "left": null,
            "margin": null,
            "max_height": null,
            "max_width": null,
            "min_height": null,
            "min_width": null,
            "object_fit": null,
            "object_position": null,
            "order": null,
            "overflow": null,
            "overflow_x": null,
            "overflow_y": null,
            "padding": null,
            "right": null,
            "top": null,
            "visibility": null,
            "width": null
          }
        },
        "0221e7f005cc431bb89d9cb89f78066c": {
          "model_module": "@jupyter-widgets/base",
          "model_name": "LayoutModel",
          "model_module_version": "1.2.0",
          "state": {
            "_model_module": "@jupyter-widgets/base",
            "_model_module_version": "1.2.0",
            "_model_name": "LayoutModel",
            "_view_count": null,
            "_view_module": "@jupyter-widgets/base",
            "_view_module_version": "1.2.0",
            "_view_name": "LayoutView",
            "align_content": null,
            "align_items": null,
            "align_self": null,
            "border": null,
            "bottom": null,
            "display": null,
            "flex": null,
            "flex_flow": null,
            "grid_area": null,
            "grid_auto_columns": null,
            "grid_auto_flow": null,
            "grid_auto_rows": null,
            "grid_column": null,
            "grid_gap": null,
            "grid_row": null,
            "grid_template_areas": null,
            "grid_template_columns": null,
            "grid_template_rows": null,
            "height": null,
            "justify_content": null,
            "justify_items": null,
            "left": null,
            "margin": null,
            "max_height": null,
            "max_width": null,
            "min_height": null,
            "min_width": null,
            "object_fit": null,
            "object_position": null,
            "order": null,
            "overflow": null,
            "overflow_x": null,
            "overflow_y": null,
            "padding": null,
            "right": null,
            "top": null,
            "visibility": null,
            "width": null
          }
        },
        "0e474fa3de6c4d2b82ee1fe1780fb94e": {
          "model_module": "@jupyter-widgets/controls",
          "model_name": "DescriptionStyleModel",
          "model_module_version": "1.5.0",
          "state": {
            "_model_module": "@jupyter-widgets/controls",
            "_model_module_version": "1.5.0",
            "_model_name": "DescriptionStyleModel",
            "_view_count": null,
            "_view_module": "@jupyter-widgets/base",
            "_view_module_version": "1.2.0",
            "_view_name": "StyleView",
            "description_width": ""
          }
        },
        "4af7d756d92547619a7bbc54f1c2d760": {
          "model_module": "@jupyter-widgets/base",
          "model_name": "LayoutModel",
          "model_module_version": "1.2.0",
          "state": {
            "_model_module": "@jupyter-widgets/base",
            "_model_module_version": "1.2.0",
            "_model_name": "LayoutModel",
            "_view_count": null,
            "_view_module": "@jupyter-widgets/base",
            "_view_module_version": "1.2.0",
            "_view_name": "LayoutView",
            "align_content": null,
            "align_items": null,
            "align_self": null,
            "border": null,
            "bottom": null,
            "display": null,
            "flex": null,
            "flex_flow": null,
            "grid_area": null,
            "grid_auto_columns": null,
            "grid_auto_flow": null,
            "grid_auto_rows": null,
            "grid_column": null,
            "grid_gap": null,
            "grid_row": null,
            "grid_template_areas": null,
            "grid_template_columns": null,
            "grid_template_rows": null,
            "height": null,
            "justify_content": null,
            "justify_items": null,
            "left": null,
            "margin": null,
            "max_height": null,
            "max_width": null,
            "min_height": null,
            "min_width": null,
            "object_fit": null,
            "object_position": null,
            "order": null,
            "overflow": null,
            "overflow_x": null,
            "overflow_y": null,
            "padding": null,
            "right": null,
            "top": null,
            "visibility": null,
            "width": null
          }
        },
        "4d233e24df2f484f845b5b0d142cefc9": {
          "model_module": "@jupyter-widgets/controls",
          "model_name": "ProgressStyleModel",
          "model_module_version": "1.5.0",
          "state": {
            "_model_module": "@jupyter-widgets/controls",
            "_model_module_version": "1.5.0",
            "_model_name": "ProgressStyleModel",
            "_view_count": null,
            "_view_module": "@jupyter-widgets/base",
            "_view_module_version": "1.2.0",
            "_view_name": "StyleView",
            "bar_color": null,
            "description_width": ""
          }
        },
        "e35279e6bbbb456e93f02208b829cfe6": {
          "model_module": "@jupyter-widgets/base",
          "model_name": "LayoutModel",
          "model_module_version": "1.2.0",
          "state": {
            "_model_module": "@jupyter-widgets/base",
            "_model_module_version": "1.2.0",
            "_model_name": "LayoutModel",
            "_view_count": null,
            "_view_module": "@jupyter-widgets/base",
            "_view_module_version": "1.2.0",
            "_view_name": "LayoutView",
            "align_content": null,
            "align_items": null,
            "align_self": null,
            "border": null,
            "bottom": null,
            "display": null,
            "flex": null,
            "flex_flow": null,
            "grid_area": null,
            "grid_auto_columns": null,
            "grid_auto_flow": null,
            "grid_auto_rows": null,
            "grid_column": null,
            "grid_gap": null,
            "grid_row": null,
            "grid_template_areas": null,
            "grid_template_columns": null,
            "grid_template_rows": null,
            "height": null,
            "justify_content": null,
            "justify_items": null,
            "left": null,
            "margin": null,
            "max_height": null,
            "max_width": null,
            "min_height": null,
            "min_width": null,
            "object_fit": null,
            "object_position": null,
            "order": null,
            "overflow": null,
            "overflow_x": null,
            "overflow_y": null,
            "padding": null,
            "right": null,
            "top": null,
            "visibility": null,
            "width": null
          }
        },
        "6954cf9b825844b1a6d96d099c3489ae": {
          "model_module": "@jupyter-widgets/controls",
          "model_name": "DescriptionStyleModel",
          "model_module_version": "1.5.0",
          "state": {
            "_model_module": "@jupyter-widgets/controls",
            "_model_module_version": "1.5.0",
            "_model_name": "DescriptionStyleModel",
            "_view_count": null,
            "_view_module": "@jupyter-widgets/base",
            "_view_module_version": "1.2.0",
            "_view_name": "StyleView",
            "description_width": ""
          }
        }
      }
    }
  },
  "cells": [
    {
      "cell_type": "markdown",
      "source": [
        "# Final Project"
      ],
      "metadata": {
        "id": "bDBm-qgYmotM"
      }
    },
    {
      "cell_type": "markdown",
      "source": [
        "### connect my google drive and set dataset path"
      ],
      "metadata": {
        "id": "IhPIIlLDmu1l"
      }
    },
    {
      "cell_type": "code",
      "source": [
        "# connect google drive\n",
        "from google.colab import drive\n",
        "drive.mount(\"/content/gdrive\")"
      ],
      "metadata": {
        "colab": {
          "base_uri": "https://localhost:8080/"
        },
        "id": "P3UEBsk2mw28",
        "outputId": "ffb6db4a-d9ff-49e7-be56-df3555dd3594"
      },
      "execution_count": 1,
      "outputs": [
        {
          "output_type": "stream",
          "name": "stdout",
          "text": [
            "Mounted at /content/gdrive\n"
          ]
        }
      ]
    },
    {
      "cell_type": "code",
      "source": [
        "!ls \"/content/gdrive/MyDrive/資料科學概論\""
      ],
      "metadata": {
        "colab": {
          "base_uri": "https://localhost:8080/"
        },
        "id": "nVdXg8cDmyE7",
        "outputId": "90f016bc-f22d-49fa-c149-d5b788e89f3e"
      },
      "execution_count": 4,
      "outputs": [
        {
          "output_type": "stream",
          "name": "stdout",
          "text": [
            " crops_image  'Final Project.ipynb'\n"
          ]
        }
      ]
    },
    {
      "cell_type": "code",
      "source": [
        "# dataset path\n",
        "folder_path = \"/content/gdrive/MyDrive/資料科學概論/crops_image/\""
      ],
      "metadata": {
        "id": "Pg11vrYimzeS"
      },
      "execution_count": 5,
      "outputs": []
    },
    {
      "cell_type": "markdown",
      "source": [
        "### import package"
      ],
      "metadata": {
        "id": "c2P-i8PGnPmz"
      }
    },
    {
      "cell_type": "code",
      "source": [
        "import pandas as pd\n",
        "import numpy as np\n",
        "import torch\n",
        "from torch import nn, optim\n",
        "from torchvision import datasets\n",
        "from torchvision.datasets import ImageFolder\n",
        "import torchvision.transforms as transforms\n",
        "import torch.nn.functional as F\n",
        "import matplotlib.pyplot as plt\n",
        "from torch.utils.data import Dataset, DataLoader\n",
        "from torch.utils.data.sampler import SubsetRandomSampler\n",
        "from tqdm.auto import tqdm\n",
        "import time"
      ],
      "metadata": {
        "id": "EllNoVImnQQm"
      },
      "execution_count": 6,
      "outputs": []
    },
    {
      "cell_type": "code",
      "source": [
        "# skip plt.show()\n",
        "%matplotlib inline"
      ],
      "metadata": {
        "id": "WqRgqiXCnTK_"
      },
      "execution_count": 9,
      "outputs": []
    },
    {
      "cell_type": "markdown",
      "source": [
        "### preprocess the data"
      ],
      "metadata": {
        "id": "Khvdt17HnU--"
      }
    },
    {
      "cell_type": "code",
      "source": [
        "# Read dataset\n",
        "data_transform = transforms.Compose([transforms.Resize((256, 256)),\n",
        "                                     transforms.ToTensor(),\n",
        "                                     transforms.Normalize([0.485, 0.456, 0.406], [0.229, 0.224, 0.225])])\n",
        "dataset = ImageFolder(folder_path, transform=data_transform, target_transform=None)\n",
        "print(dataset.class_to_idx)"
      ],
      "metadata": {
        "colab": {
          "base_uri": "https://localhost:8080/"
        },
        "id": "-ABp2VTpnW1M",
        "outputId": "f147c29e-668f-4ce9-9940-77cf72635e56"
      },
      "execution_count": 7,
      "outputs": [
        {
          "output_type": "stream",
          "name": "stdout",
          "text": [
            "{'atemoya': 0, 'banana': 1, 'bareland': 2, 'cabbage': 3, 'carrot': 4, 'grapes': 5, 'guava': 6, 'mango': 7, 'papaya': 8, 'pineapple': 9, 'pumpkin': 10}\n"
          ]
        }
      ]
    },
    {
      "cell_type": "code",
      "source": [
        "# define the hyper parameter\n",
        "batch_size = 32\n",
        "\n",
        "# set the ratio of train data, valid data, and test data\n",
        "train_ratio = 0.7\n",
        "valid_ratio = 0.2\n",
        "test_ratio = 0.1"
      ],
      "metadata": {
        "id": "VCjxI12cnX9s"
      },
      "execution_count": 8,
      "outputs": []
    },
    {
      "cell_type": "code",
      "source": [
        "class CustomDataset(Dataset):\n",
        "    def __init__(self, data):\n",
        "        self.data = data\n",
        "\n",
        "    def __getitem__(self, index):\n",
        "        # get data by index\n",
        "        return self.data[index]\n",
        "\n",
        "    def __len__(self):\n",
        "        # return the length of dataset\n",
        "        return len(self.data)"
      ],
      "metadata": {
        "id": "ovggw5I1naXl"
      },
      "execution_count": 10,
      "outputs": []
    },
    {
      "cell_type": "code",
      "source": [
        "# get the size of dataset\n",
        "dataset_size = len(dataset)\n",
        "indices = list(range(dataset_size))\n",
        "train_size = int(train_ratio * dataset_size)\n",
        "valid_size = int(valid_ratio * dataset_size)\n",
        "test_size = dataset_size - train_size - valid_size\n",
        "\n",
        "# randomize the index\n",
        "np.random.seed(24)\n",
        "np.random.shuffle(indices)\n",
        "\n",
        "# separate the dataset with given ratio\n",
        "train_indices = indices[:train_size]\n",
        "valid_indices = indices[train_size:train_size+valid_size]\n",
        "test_indices = indices[train_size+valid_size:]\n",
        "\n",
        "# define SubsetRandomSampler and DataLoader\n",
        "train_sampler = SubsetRandomSampler(train_indices)\n",
        "valid_sampler = SubsetRandomSampler(valid_indices)\n",
        "test_sampler = SubsetRandomSampler(test_indices)\n",
        "\n",
        "train_loader = DataLoader(dataset, batch_size=batch_size, sampler=train_sampler)\n",
        "valid_loader = DataLoader(dataset, batch_size=batch_size, sampler=valid_sampler)\n",
        "test_loader = DataLoader(dataset, batch_size=batch_size, sampler=test_sampler)"
      ],
      "metadata": {
        "id": "U642wQPwncKL"
      },
      "execution_count": 11,
      "outputs": []
    },
    {
      "cell_type": "code",
      "source": [
        "print(\"Information of Train Loader :\")\n",
        "print(\"batch size of each epoch :\", train_loader.batch_size)\n",
        "print(\"number of batches :\", len(train_loader))\n",
        "print(\"dataset size :\", len(train_loader.sampler))"
      ],
      "metadata": {
        "colab": {
          "base_uri": "https://localhost:8080/"
        },
        "id": "OusmosM9nc8q",
        "outputId": "317d3bba-bad5-4712-ea09-61c5577602e0"
      },
      "execution_count": 12,
      "outputs": [
        {
          "output_type": "stream",
          "name": "stdout",
          "text": [
            "Information of Train Loader :\n",
            "batch size of each epoch : 32\n",
            "number of batches : 73\n",
            "dataset size : 2310\n"
          ]
        }
      ]
    },
    {
      "cell_type": "code",
      "source": [
        "for imgs, batchsize in train_loader:\n",
        "     print(\"image size of train_loader :\", imgs.shape)\n",
        "     print(\"batch size of train_loader :\", batchsize.shape)\n",
        "     break"
      ],
      "metadata": {
        "colab": {
          "base_uri": "https://localhost:8080/"
        },
        "id": "4m7SPu2xnfIF",
        "outputId": "0549932e-f81a-495a-acd5-a2532ffadc8f"
      },
      "execution_count": 13,
      "outputs": [
        {
          "output_type": "stream",
          "name": "stdout",
          "text": [
            "image size of train_loader : torch.Size([32, 3, 256, 256])\n",
            "batch size of train_loader : torch.Size([32])\n"
          ]
        }
      ]
    },
    {
      "cell_type": "code",
      "source": [
        "total_samples = len(test_loader.dataset)\n",
        "\n",
        "print(\"Total samples in the test dataset are \", total_samples)"
      ],
      "metadata": {
        "colab": {
          "base_uri": "https://localhost:8080/"
        },
        "id": "9HLpa1u5ngbf",
        "outputId": "e101412f-1359-474b-a1e8-e8b042b51ed9"
      },
      "execution_count": 14,
      "outputs": [
        {
          "output_type": "stream",
          "name": "stdout",
          "text": [
            "Total samples in the test dataset are  3300\n"
          ]
        }
      ]
    },
    {
      "cell_type": "markdown",
      "source": [
        "### setup the model"
      ],
      "metadata": {
        "id": "XvGu0eIxnivi"
      }
    },
    {
      "cell_type": "code",
      "source": [
        "class Classifier(nn.Module):\n",
        "    def __init__(self):\n",
        "      super().__init__()\n",
        "      self.cnn_layers = nn.Sequential(\n",
        "        # Input shape[3, 256, 256]\n",
        "        # CNN layers\n",
        "        nn.Conv2d(3, 64, 3, padding=1), # output shape(64, 256, 256)\n",
        "        nn.BatchNorm2d(64),\n",
        "        nn.ReLU(),\n",
        "        nn.MaxPool2d(2, 2), # output shape(64, 128, 128)\n",
        "\n",
        "        nn.Conv2d(64, 128, 3, padding=1), # output shape(128, 128, 128)\n",
        "        nn.BatchNorm2d(128),\n",
        "        nn.ReLU(),\n",
        "        nn.MaxPool2d(2, 2), # output shape(128, 64, 64)\n",
        "\n",
        "        nn.Conv2d(128, 256, 3, padding=1), # output shape(256, 64, 64)\n",
        "        nn.BatchNorm2d(256),\n",
        "        nn.ReLU(),\n",
        "        nn.MaxPool2d(2, 2), # output shape(256, 32, 32)\n",
        "\n",
        "        nn.Conv2d(256, 256, 3, padding=1), # output shape(256, 32, 32)\n",
        "        nn.BatchNorm2d(256),\n",
        "        nn.ReLU(),\n",
        "        nn.MaxPool2d(2, 2), # output shape(256, 16, 16)\n",
        "\n",
        "        nn.Conv2d(256, 512, 3, padding=1), # output shape(512, 16, 16)\n",
        "        nn.BatchNorm2d(512),\n",
        "        nn.ReLU(),\n",
        "        nn.MaxPool2d(2, 2), # output shape(512, 8, 8)\n",
        "      )\n",
        "      self.fc_layers = nn.Sequential(\n",
        "      # Fully connected layer\n",
        "        nn.Linear(512 * 8 * 8, 256),\n",
        "        nn.Dropout(0.4),\n",
        "        nn.ReLU(),\n",
        "        nn.Linear(256, 128),\n",
        "        nn.ReLU(),\n",
        "        nn.Linear(128, 64),\n",
        "        nn.ReLU(),\n",
        "        nn.Linear(64, 32),\n",
        "        nn.ReLU(),\n",
        "        nn.Linear(32, 11),\n",
        "      )\n",
        "\n",
        "    def forward(self, x):\n",
        "      x = self.cnn_layers(x)\n",
        "\n",
        "      x = torch.flatten(x, 1)\n",
        "\n",
        "      x = self.fc_layers(x)\n",
        "      return x"
      ],
      "metadata": {
        "id": "0sDATS7pnjOV"
      },
      "execution_count": 15,
      "outputs": []
    },
    {
      "cell_type": "code",
      "source": [
        "device = torch.device(\"cuda\" if torch.cuda.is_available() else \"cpu\")\n",
        "\n",
        "print(f'the device to train the model is {device}')"
      ],
      "metadata": {
        "colab": {
          "base_uri": "https://localhost:8080/"
        },
        "id": "lnvRXrewnler",
        "outputId": "0d7925cb-c1dc-458b-b6c5-ea8cbc652b46"
      },
      "execution_count": 16,
      "outputs": [
        {
          "output_type": "stream",
          "name": "stdout",
          "text": [
            "the device to train the model is cpu\n"
          ]
        }
      ]
    },
    {
      "cell_type": "markdown",
      "source": [
        "### train the model"
      ],
      "metadata": {
        "id": "_yv1G9npnnEE"
      }
    },
    {
      "cell_type": "code",
      "source": [
        "lr = 0.0003\n",
        "epochs = 20\n",
        "decays = 0.0001"
      ],
      "metadata": {
        "id": "IDyr2knQnnxJ"
      },
      "execution_count": 17,
      "outputs": []
    },
    {
      "cell_type": "code",
      "source": [
        "model = Classifier().to(device)\n",
        "criterion = nn.CrossEntropyLoss()\n",
        "optimizer = optim.Adam(model.parameters(), lr=lr, weight_decay=decays) # 可換成其他opt\n",
        "scheduler = optim.lr_scheduler.ExponentialLR(optimizer, gamma=0.97)"
      ],
      "metadata": {
        "id": "p5uMOoyKnpG0"
      },
      "execution_count": 18,
      "outputs": []
    },
    {
      "cell_type": "code",
      "source": [
        "# random seed\n",
        "seed = 0\n",
        "torch.manual_seed(seed)\n",
        "if(torch.cuda.is_available()):\n",
        "  torch.cuda.manual_seed(seed)\n",
        "  torch.cuda.manual_seed_all(seed)\n",
        "np.random.seed(seed)"
      ],
      "metadata": {
        "id": "UdYNfTCqnqK6"
      },
      "execution_count": 19,
      "outputs": []
    },
    {
      "cell_type": "code",
      "source": [
        "valid_acc = 0.0\n",
        "train_acc_history = []\n",
        "train_loss_history = []\n",
        "valid_acc_history = []\n",
        "valid_loss_history = []\n",
        "for epoch in range(epochs):\n",
        "  model.train()\n",
        "\n",
        "  train_loss = []\n",
        "  train_accs = []\n",
        "\n",
        "  for batch in tqdm(train_loader):\n",
        "\n",
        "    imgs, labels = batch\n",
        "\n",
        "\n",
        "    logits = model(imgs.to(device))\n",
        "\n",
        "\n",
        "    loss = criterion(logits, labels.to(device))\n",
        "\n",
        "\n",
        "    optimizer.zero_grad()\n",
        "\n",
        "\n",
        "    loss.backward()\n",
        "\n",
        "    grad_norm = nn.utils.clip_grad_norm_(model.parameters(), max_norm=10)\n",
        "\n",
        "    optimizer.step()\n",
        "\n",
        "    acc = (logits.argmax(dim=-1) == labels.to(device)).float().mean()\n",
        "\n",
        "    train_loss.append(loss.item())\n",
        "    train_accs.append(acc.item())\n",
        "\n",
        "  scheduler.step()\n",
        "  train_loss = sum(train_loss) / len(train_loss)\n",
        "  train_accs = sum(train_accs) / len(train_accs)\n",
        "  train_acc_history.append(train_accs)\n",
        "  train_loss_history.append(train_loss)\n",
        "\n",
        "  print(f\"[ Train | {epoch + 1:03d}/{epochs:03d} ] loss = {train_loss:.5f}, acc = {acc:.5f}\")\n",
        "\n",
        "  # ---------- Validation ----------\n",
        "\n",
        "  model.eval()\n",
        "\n",
        "  valid_loss = []\n",
        "  valid_accs = []\n",
        "  y_pred = []\n",
        "  y_test = []\n",
        "  def validate(valid_loader, model, criterion, device, y_pred, y_test):\n",
        "    model.eval()\n",
        "\n",
        "    with torch.no_grad():\n",
        "        end = time.time()\n",
        "        for i, (images, labels) in enumerate(valid_loader):\n",
        "\n",
        "            images, labels = images.cuda(), labels.cuda()\n",
        "            output = model(images)\n",
        "            _, preds = torch.max(output, 1)\n",
        "            loss = criterion(output, labels)\n",
        "            acc = (output.argmax(dim=-1) == labels.to(device)).float().mean()\n",
        "\n",
        "            y_pred.extend(preds.view(-1).detach().cpu().numpy())\n",
        "            y_test.extend(labels.view(-1).detach().cpu().numpy())\n",
        "            valid_loss.append(loss.item())\n",
        "            valid_accs.append(acc.item())\n",
        "\n",
        "\n",
        "    return y_pred, y_test ,valid_loss, valid_accs\n",
        "\n",
        "\n",
        "  y_pred, y_test, valid_loss, valid_accs = validate(valid_loader, model, criterion, device,  y_pred, y_test)\n",
        "\n",
        "\n",
        "  valid_loss = sum(valid_loss) / len(valid_loss)\n",
        "  valid_acc = sum(valid_accs) / len(valid_accs)\n",
        "  valid_acc_history.append(valid_acc)\n",
        "  valid_loss_history.append(valid_loss)\n",
        "\n",
        "  # Print the information.\n",
        "  print(f\"[ Valid | {epoch + 1:03d}/{epochs:03d} ] loss = {valid_loss:.5f}, acc = {valid_acc:.5f}\")"
      ],
      "metadata": {
        "colab": {
          "base_uri": "https://localhost:8080/",
          "height": 49,
          "referenced_widgets": [
            "1a77b775b20c4874b20d0c141618faf0",
            "adda1039549144799b8524be2e9adb36",
            "662e3b96de1e47f69e6b894d0b7f40f5",
            "f082fc999d0448b391c4c4407bb4f735",
            "844bc1accfcd42cd9212bd53f17b4341",
            "0221e7f005cc431bb89d9cb89f78066c",
            "0e474fa3de6c4d2b82ee1fe1780fb94e",
            "4af7d756d92547619a7bbc54f1c2d760",
            "4d233e24df2f484f845b5b0d142cefc9",
            "e35279e6bbbb456e93f02208b829cfe6",
            "6954cf9b825844b1a6d96d099c3489ae"
          ]
        },
        "id": "9uc1UBQ4nsXN",
        "outputId": "8e14a0d2-b5ca-45a6-b726-b37b46831051"
      },
      "execution_count": null,
      "outputs": [
        {
          "output_type": "display_data",
          "data": {
            "text/plain": [
              "  0%|          | 0/73 [00:00<?, ?it/s]"
            ],
            "application/vnd.jupyter.widget-view+json": {
              "version_major": 2,
              "version_minor": 0,
              "model_id": "1a77b775b20c4874b20d0c141618faf0"
            }
          },
          "metadata": {}
        }
      ]
    },
    {
      "cell_type": "markdown",
      "source": [
        "### print the loss and accuracy plot"
      ],
      "metadata": {
        "id": "c0SEsiQipqiK"
      }
    },
    {
      "cell_type": "code",
      "source": [
        "def show_train_history(train_acc, valid_acc, ylabel):\n",
        "    epoch = np.linspace(1, 20, 20)\n",
        "    plt.plot(epoch, train_acc)\n",
        "    plt.plot(epoch, valid_acc)\n",
        "    plt.title(f'Train History of {ylabel}')\n",
        "    plt.ylabel(ylabel)\n",
        "    plt.xlabel('Epoch')\n",
        "    plt.legend(['train', 'test'], loc='upper left')\n",
        "    plt.show()"
      ],
      "metadata": {
        "id": "uCpKrJqqppxN"
      },
      "execution_count": null,
      "outputs": []
    },
    {
      "cell_type": "code",
      "source": [
        "show_train_history(train_acc_history, valid_acc_history, 'Accuracy')"
      ],
      "metadata": {
        "id": "MfIG10VdptW9"
      },
      "execution_count": null,
      "outputs": []
    },
    {
      "cell_type": "code",
      "source": [
        "show_train_history(train_loss_history, valid_loss_history, 'Loss')"
      ],
      "metadata": {
        "id": "NERQLoRmpupS"
      },
      "execution_count": null,
      "outputs": []
    },
    {
      "cell_type": "markdown",
      "source": [
        "### show the accuracy of each crop"
      ],
      "metadata": {
        "id": "hCU0518wpxi6"
      }
    },
    {
      "cell_type": "code",
      "source": [
        "label_dict={0:\"atemoya\", 1:\"banana\", 2:\"bareland\", 3:\"cabbage\", 4:\"carrot\", 5:\"grapes\",\n",
        "            6:\"guava\", 7:\"mango\", 8:\"papaya\", 9:\"pineapple\", 10:\"pumpkin\"}"
      ],
      "metadata": {
        "id": "t5sSiAGEpyDK"
      },
      "execution_count": null,
      "outputs": []
    },
    {
      "cell_type": "code",
      "source": [
        "test_loss = 0.0\n",
        "class_correct = [0.0] * 11\n",
        "class_total = [0.0] * 11\n",
        "\n",
        "model.eval()\n",
        "with torch.no_grad():\n",
        "    for data, target in test_loader:\n",
        "        data, target = data.to(device), target.to(device)\n",
        "        output = model(data)\n",
        "        loss = criterion(output, target)\n",
        "        test_loss += loss.item() * data.size(0)\n",
        "        _, pred = torch.max(output, 1)\n",
        "        correct_tensor = pred.eq(target.data.view_as(pred))\n",
        "        correct = correct_tensor.cpu().numpy()\n",
        "\n",
        "        for t, c in zip(target, correct):\n",
        "            label = t.item()\n",
        "            class_correct[label] += c.item()\n",
        "            class_total[label] += 1\n",
        "\n",
        "test_loss = test_loss / len(test_loader.dataset)\n",
        "print(f'Test Loss: {test_loss:.3f}\\n')\n",
        "\n",
        "for i in range(11):\n",
        "    if class_total[i] > 0:\n",
        "        print(f'Test Accuracy of {label_dict[i]} : {100 * class_correct[i] / class_total[i]:.2f}% ({int(class_correct[i])}/{int(class_total[i])})')\n",
        "    else:\n",
        "        print(f'Test Accuracy of {i} : N/A (no training examples)')\n",
        "\n",
        "overall_correct = sum(class_correct)\n",
        "overall_total = sum(class_total)\n",
        "print(f'\\nTest Accuracy (Overall): {100. * overall_correct / overall_total:.2f}% ({int(overall_correct)}/{int(overall_total)})')"
      ],
      "metadata": {
        "id": "OH2ju-M6pz5d"
      },
      "execution_count": null,
      "outputs": []
    },
    {
      "cell_type": "markdown",
      "source": [
        "### print confusion matrix"
      ],
      "metadata": {
        "id": "0uKJF68np3tq"
      }
    },
    {
      "cell_type": "code",
      "source": [
        "import itertools\n",
        "def plot_confusion_matrix(cm, classes, normalize=False, title='Confusion matrix', cmap=plt.cm.Blues):\n",
        "    if normalize:\n",
        "        cm = cm.astype('float') / cm.sum(axis=1)[:, np.newaxis]\n",
        "    else:\n",
        "        pass\n",
        "\n",
        "    plt.figure(figsize=(6, 6))\n",
        "    plt.imshow(cm, interpolation='nearest', cmap=cmap)\n",
        "    plt.title(title)\n",
        "\n",
        "    tick_marks = np.arange(len(classes))\n",
        "    plt.xticks(tick_marks, classes, rotation=45)\n",
        "    plt.yticks(tick_marks, classes)\n",
        "\n",
        "    fmt = '.2f' if normalize else 'd'\n",
        "    thresh = cm.max() / 2.\n",
        "    for i, j in itertools.product(range(cm.shape[0]), range(cm.shape[1])):\n",
        "        plt.text(j, i, format(cm[i, j], fmt),\n",
        "                 horizontalalignment=\"center\",\n",
        "                 color=\"white\" if cm[i, j] > thresh else \"black\")\n",
        "\n",
        "    plt.ylabel('True label')\n",
        "    plt.xlabel('Predicted label')\n",
        "    plt.tight_layout()"
      ],
      "metadata": {
        "id": "HoDlF0pZp5W6"
      },
      "execution_count": null,
      "outputs": []
    },
    {
      "cell_type": "code",
      "source": [
        "classes = dataset.classes\n",
        "print(classes)"
      ],
      "metadata": {
        "id": "qXguP49mp65d"
      },
      "execution_count": null,
      "outputs": []
    },
    {
      "cell_type": "code",
      "source": [
        "from sklearn.metrics import confusion_matrix\n",
        "\n",
        "model.eval()\n",
        "y_true = []\n",
        "y_pred = []\n",
        "\n",
        "with torch.no_grad():\n",
        "    for data, target in test_loader:\n",
        "        data, target = data.to(device), target.to(device)\n",
        "        output = model(data)\n",
        "        _, pred = torch.max(output, 1)\n",
        "\n",
        "        y_true.extend(target.cpu().numpy())\n",
        "        y_pred.extend(pred.cpu().numpy())\n",
        "\n",
        "y_true = np.array(y_true)\n",
        "y_pred = np.array(y_pred)\n",
        "\n",
        "matrix = confusion_matrix(y_true, y_pred)\n",
        "plot_confusion_matrix(matrix, classes=classes, normalize=True)"
      ],
      "metadata": {
        "id": "bm34p9fPp8Bb"
      },
      "execution_count": null,
      "outputs": []
    },
    {
      "cell_type": "markdown",
      "source": [
        "#### save the model"
      ],
      "metadata": {
        "id": "CfOvA4A1p_Bb"
      }
    },
    {
      "cell_type": "code",
      "source": [
        "torch.save(model, \"/content/gdrive/MyDrive/資料科學概論/mymodel.pth\")"
      ],
      "metadata": {
        "id": "f4XWhqX4qANB"
      },
      "execution_count": null,
      "outputs": []
    }
  ]
}